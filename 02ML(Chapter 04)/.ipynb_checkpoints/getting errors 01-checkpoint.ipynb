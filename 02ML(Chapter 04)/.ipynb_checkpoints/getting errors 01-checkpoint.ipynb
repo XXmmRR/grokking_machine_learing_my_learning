{
 "cells": [
  {
   "cell_type": "code",
   "execution_count": 2,
   "id": "38107e88",
   "metadata": {},
   "outputs": [
    {
     "name": "stdout",
     "output_type": "stream",
     "text": [
      "0.30250000000000005\n"
     ]
    }
   ],
   "source": [
    "knob_weight = 0.5\n",
    "input = 0.5\n",
    "goal_pred = 0.8\n",
    "pred = knob_weight * input\n",
    "error = (pred - goal_pred)**2\n",
    "print(error)"
   ]
  },
  {
   "cell_type": "code",
   "execution_count": 3,
   "id": "df488d66",
   "metadata": {},
   "outputs": [
    {
     "name": "stdout",
     "output_type": "stream",
     "text": [
      "0.004224999999999993\n"
     ]
    }
   ],
   "source": [
    "weight = 0.1\n",
    "lr = 0.1\n",
    "\n",
    "weight = 0.1 \n",
    "\n",
    "def neural_network(input, weight):\n",
    "    prediction = input * weight\n",
    "    return prediction\n",
    "\n",
    "number_of_toes = [8.5]\n",
    "win_or_lose_binary = [1] #(won!!!)\n",
    "\n",
    "input = number_of_toes[0]\n",
    "true = win_or_lose_binary[0]\n",
    "\n",
    "lr = 0.01\n",
    "p_up = neural_network(input,weight+lr)\n",
    "e_up = (p_up - true) ** 2\n",
    "print(e_up)\n"
   ]
  },
  {
   "cell_type": "code",
   "execution_count": null,
   "id": "a8ded028",
   "metadata": {},
   "outputs": [],
   "source": []
  }
 ],
 "metadata": {
  "kernelspec": {
   "display_name": "Python 3 (ipykernel)",
   "language": "python",
   "name": "python3"
  },
  "language_info": {
   "codemirror_mode": {
    "name": "ipython",
    "version": 3
   },
   "file_extension": ".py",
   "mimetype": "text/x-python",
   "name": "python",
   "nbconvert_exporter": "python",
   "pygments_lexer": "ipython3",
   "version": "3.9.2"
  }
 },
 "nbformat": 4,
 "nbformat_minor": 5
}
