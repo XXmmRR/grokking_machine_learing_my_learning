{
 "cells": [
  {
   "cell_type": "code",
   "execution_count": 16,
   "id": "9b4db865",
   "metadata": {
    "scrolled": false
   },
   "outputs": [
    {
     "name": "stdout",
     "output_type": "stream",
     "text": [
      "Error: 0.30250000000000005 Prediction: 0.25\n",
      "Direction-0.275: Weight 0.775\n",
      "Error: 0.17015625000000004 Prediction: 0.3875\n",
      "Direction-0.20625000000000002: Weight 0.9812500000000001\n",
      "Error: 0.095712890625 Prediction: 0.49062500000000003\n",
      "Direction-0.1546875: Weight 1.1359375\n",
      "Error: 0.05383850097656251 Prediction: 0.56796875\n",
      "Direction-0.11601562500000001: Weight 1.251953125\n",
      "Error: 0.03028415679931642 Prediction: 0.6259765625\n",
      "Direction-0.08701171875000002: Weight 1.33896484375\n",
      "Error: 0.0170348381996155 Prediction: 0.669482421875\n",
      "Direction-0.06525878906250004: Weight 1.4042236328125\n",
      "Error: 0.00958209648728372 Prediction: 0.70211181640625\n",
      "Direction-0.04894409179687503: Weight 1.453167724609375\n",
      "Error: 0.005389929274097089 Prediction: 0.7265838623046875\n",
      "Direction-0.03670806884765626: Weight 1.4898757934570312\n",
      "Error: 0.0030318352166796153 Prediction: 0.7449378967285156\n",
      "Direction-0.02753105163574221: Weight 1.5174068450927733\n",
      "Error: 0.0017054073093822882 Prediction: 0.7587034225463867\n",
      "Direction-0.020648288726806685: Weight 1.53805513381958\n",
      "Error: 0.0009592916115275371 Prediction: 0.76902756690979\n",
      "Direction-0.015486216545105014: Weight 1.553541350364685\n",
      "Error: 0.0005396015314842384 Prediction: 0.7767706751823426\n",
      "Direction-0.011614662408828746: Weight 1.5651560127735138\n",
      "Error: 0.000303525861459885 Prediction: 0.7825780063867569\n",
      "Direction-0.008710996806621574: Weight 1.5738670095801353\n",
      "Error: 0.00017073329707118678 Prediction: 0.7869335047900676\n",
      "Direction-0.006533247604966208: Weight 1.5804002571851015\n",
      "Error: 9.603747960254256e-05 Prediction: 0.7902001285925507\n",
      "Direction-0.004899935703724656: Weight 1.5853001928888262\n",
      "Error: 5.402108227642978e-05 Prediction: 0.7926500964444131\n",
      "Direction-0.003674951777793478: Weight 1.5889751446666196\n",
      "Error: 3.038685878049206e-05 Prediction: 0.7944875723333098\n",
      "Direction-0.0027562138333451225: Weight 1.5917313584999646\n",
      "Error: 1.7092608064027242e-05 Prediction: 0.7958656792499823\n",
      "Direction-0.0020671603750088696: Weight 1.5937985188749735\n",
      "Error: 9.614592036015323e-06 Prediction: 0.7968992594374867\n",
      "Direction-0.0015503702812566522: Weight 1.5953488891562302\n",
      "Error: 5.408208020258491e-06 Prediction: 0.7976744445781151\n",
      "Direction-0.0011627777109424753: Weight 1.5965116668671726\n"
     ]
    }
   ],
   "source": [
    "weight = 0.5\n",
    "input = 0.5\n",
    "goal_pred = 0.8\n",
    "\n",
    "for iteration in range(20):\n",
    "    pred = input * weight\n",
    "    error = (pred - goal_pred) ** 2\n",
    "    direction_and_amount = (pred - goal_pred) * input\n",
    "    weight = weight - direction_and_amount\n",
    "    \n",
    "    print(f'Error: {error} Prediction: {pred}\\nDirection{direction_and_amount}: Weight {weight}')\n"
   ]
  },
  {
   "cell_type": "code",
   "execution_count": null,
   "id": "7818fc77",
   "metadata": {},
   "outputs": [],
   "source": []
  }
 ],
 "metadata": {
  "kernelspec": {
   "display_name": "Python 3 (ipykernel)",
   "language": "python",
   "name": "python3"
  },
  "language_info": {
   "codemirror_mode": {
    "name": "ipython",
    "version": 3
   },
   "file_extension": ".py",
   "mimetype": "text/x-python",
   "name": "python",
   "nbconvert_exporter": "python",
   "pygments_lexer": "ipython3",
   "version": "3.9.2"
  }
 },
 "nbformat": 4,
 "nbformat_minor": 5
}
