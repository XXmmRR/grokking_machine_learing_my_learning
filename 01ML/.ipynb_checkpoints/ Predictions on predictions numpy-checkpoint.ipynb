{
 "cells": [
  {
   "cell_type": "code",
   "execution_count": 8,
   "id": "3c8f8f66",
   "metadata": {},
   "outputs": [
    {
     "name": "stdout",
     "output_type": "stream",
     "text": [
      "[0.2135 0.145  0.5065]\n"
     ]
    }
   ],
   "source": [
    "import numpy as np\n",
    "\n",
    "in_wgt = np.array([[0.1, 0.2, -0.1], # hid[0]\n",
    "                   [-0.1, 0.1, 0.9], # hid[1]\n",
    "                   [0.1, 0.4, 0.1 ] ]).T\n",
    "\n",
    "hp_wgt = np.array([[0.3, 1.1, -0.3],\n",
    "                   [0.1, 0.2, 0.0],\n",
    "                   [0.0, 1.3, 0.1] ]).T\n",
    "\n",
    "weights = [in_wgt, hp_wgt]\n",
    "\n",
    "def neural_network(input, weights):\n",
    "    \n",
    "    hid = input.dot(weights[0])\n",
    "    pred = hid.dot(weights[1])\n",
    "    return pred\n",
    "\n",
    "toes = np.array([8.5, 9.5, 9.9, 9.0])\n",
    "wlrec = np.array([0.65, 0.8, 0.8, 0.9])\n",
    "nfans = np.array([1.2, 1.3, 0.5, 1.0])\n",
    "\n",
    "input = np.array([8.5, 0.65, 1.2])\n",
    "\n",
    "pred = neural_network(input, weights)\n",
    "print(pred)\n"
   ]
  },
  {
   "cell_type": "code",
   "execution_count": null,
   "id": "944f326a",
   "metadata": {},
   "outputs": [],
   "source": []
  },
  {
   "cell_type": "code",
   "execution_count": null,
   "id": "f389cee1",
   "metadata": {},
   "outputs": [],
   "source": []
  }
 ],
 "metadata": {
  "kernelspec": {
   "display_name": "Python 3 (ipykernel)",
   "language": "python",
   "name": "python3"
  },
  "language_info": {
   "codemirror_mode": {
    "name": "ipython",
    "version": 3
   },
   "file_extension": ".py",
   "mimetype": "text/x-python",
   "name": "python",
   "nbconvert_exporter": "python",
   "pygments_lexer": "ipython3",
   "version": "3.9.2"
  }
 },
 "nbformat": 4,
 "nbformat_minor": 5
}
