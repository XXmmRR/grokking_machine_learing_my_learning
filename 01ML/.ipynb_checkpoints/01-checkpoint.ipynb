{
 "cells": [
  {
   "cell_type": "code",
   "execution_count": 2,
   "id": "5d10f2d0",
   "metadata": {},
   "outputs": [
    {
     "name": "stdout",
     "output_type": "stream",
     "text": [
      "0.8500000000000001\n"
     ]
    }
   ],
   "source": [
    "weight = 0.1\n",
    "number_of_toes = [8.5, 9.5, 10, 9]\n",
    "\n",
    "\n",
    "def neural_network(input, weight):\n",
    "    prediction=input*weight\n",
    "    return prediction\n",
    "\n",
    "\n",
    "input = number_of_toes[0]\n",
    "print(neural_network(input, weight))"
   ]
  },
  {
   "cell_type": "code",
   "execution_count": null,
   "id": "82a2c99c",
   "metadata": {},
   "outputs": [],
   "source": []
  }
 ],
 "metadata": {
  "kernelspec": {
   "display_name": "Python 3 (ipykernel)",
   "language": "python",
   "name": "python3"
  },
  "language_info": {
   "codemirror_mode": {
    "name": "ipython",
    "version": 3
   },
   "file_extension": ".py",
   "mimetype": "text/x-python",
   "name": "python",
   "nbconvert_exporter": "python",
   "pygments_lexer": "ipython3",
   "version": "3.9.2"
  }
 },
 "nbformat": 4,
 "nbformat_minor": 5
}
