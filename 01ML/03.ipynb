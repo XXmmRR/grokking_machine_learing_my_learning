{
 "cells": [
  {
   "cell_type": "code",
   "execution_count": 1,
   "id": "f6b64a2c",
   "metadata": {},
   "outputs": [
    {
     "name": "stdout",
     "output_type": "stream",
     "text": [
      "[0.195, 0.13, 0.5850000000000001]\n"
     ]
    }
   ],
   "source": [
    "wlrec = [0.65, 0.8, 0.8, 0.9]\n",
    "weights = [0.3, 0.2, 0.9]\n",
    "input = wlrec[0]\n",
    "\n",
    "def ele_mul(number, vector):\n",
    "    output = [0, 0, 0]\n",
    "    assert(len(vector)==len(output))\n",
    "    \n",
    "    for i in range(len(vector)):\n",
    "        output[i] = number * vector[i]\n",
    "\n",
    "    return output\n",
    "\n",
    "def neural_network(input, weights):\n",
    "    pred = ele_mul(input, weights)\n",
    "    return pred\n",
    "    \n",
    "print(neural_network(input, weights))"
   ]
  },
  {
   "cell_type": "code",
   "execution_count": null,
   "id": "f3a7de30",
   "metadata": {},
   "outputs": [],
   "source": []
  }
 ],
 "metadata": {
  "kernelspec": {
   "display_name": "Python 3 (ipykernel)",
   "language": "python",
   "name": "python3"
  },
  "language_info": {
   "codemirror_mode": {
    "name": "ipython",
    "version": 3
   },
   "file_extension": ".py",
   "mimetype": "text/x-python",
   "name": "python",
   "nbconvert_exporter": "python",
   "pygments_lexer": "ipython3",
   "version": "3.9.2"
  }
 },
 "nbformat": 4,
 "nbformat_minor": 5
}
