{
 "cells": [
  {
   "cell_type": "code",
   "execution_count": 20,
   "id": "fb12313d",
   "metadata": {},
   "outputs": [
    {
     "name": "stdout",
     "output_type": "stream",
     "text": [
      "Идти\n"
     ]
    }
   ],
   "source": [
    "import numpy as np\n",
    "\n",
    "weights = np.array([8.29896537e-04, 1.00083388e+00, -9.60289150e-04])\n",
    "\n",
    "streetlights = np.array([[ 1, 0, 1],\n",
    "                        [ 0, 1, 1],\n",
    "                        [ 0, 0, 1],\n",
    "                        [ 1, 1, 1],\n",
    "                        [ 0, 1, 1],\n",
    "                        [ 1, 0, 1]],\n",
    "                       )\n",
    "\n",
    "walk_vs_stop = np.array([ 0, 1, 0, 1, 1, 0 ])\n",
    "\n",
    "input = np.array([1, 1, 1])\n",
    "\n",
    "a = round(input.dot(weights))\n",
    "\n",
    "if a == 1:\n",
    "    print('Идти')\n",
    "else:\n",
    "    print('Стоять')\n",
    "    "
   ]
  },
  {
   "cell_type": "code",
   "execution_count": null,
   "id": "1bce4e7b",
   "metadata": {},
   "outputs": [],
   "source": []
  },
  {
   "cell_type": "code",
   "execution_count": null,
   "id": "fa149df4",
   "metadata": {},
   "outputs": [],
   "source": []
  }
 ],
 "metadata": {
  "kernelspec": {
   "display_name": "Python 3 (ipykernel)",
   "language": "python",
   "name": "python3"
  },
  "language_info": {
   "codemirror_mode": {
    "name": "ipython",
    "version": 3
   },
   "file_extension": ".py",
   "mimetype": "text/x-python",
   "name": "python",
   "nbconvert_exporter": "python",
   "pygments_lexer": "ipython3",
   "version": "3.9.2"
  }
 },
 "nbformat": 4,
 "nbformat_minor": 5
}
